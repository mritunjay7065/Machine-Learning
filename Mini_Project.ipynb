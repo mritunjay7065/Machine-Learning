{
  "nbformat": 4,
  "nbformat_minor": 0,
  "metadata": {
    "colab": {
      "name": "Mini Project.ipynb",
      "provenance": [],
      "collapsed_sections": [],
      "toc_visible": true,
      "mount_file_id": "1RB8cWJFnXyMQytoSGXJkL_mZCJ4HCtV_",
      "authorship_tag": "ABX9TyPhmpit6K7089/XK8Saj5Ga",
      "include_colab_link": true
    },
    "kernelspec": {
      "name": "python3",
      "display_name": "Python 3"
    },
    "language_info": {
      "name": "python"
    }
  },
  "cells": [
    {
      "cell_type": "markdown",
      "metadata": {
        "id": "view-in-github",
        "colab_type": "text"
      },
      "source": [
        "<a href=\"https://colab.research.google.com/github/mritunjay7065/Machine-Learning/blob/Hand_Gesture_Recognition_(main)/Mini_Project.ipynb\" target=\"_parent\"><img src=\"https://colab.research.google.com/assets/colab-badge.svg\" alt=\"Open In Colab\"/></a>"
      ]
    },
    {
      "cell_type": "code",
      "metadata": {
        "colab": {
          "base_uri": "https://localhost:8080/"
        },
        "id": "CDMo067xqOW-",
        "outputId": "ea624399-8259-4872-f6c8-5516dacca363"
      },
      "source": [
        "\n",
        "# Import the necessary libraries\n",
        "from PIL import Image\n",
        "from numpy import asarray\n",
        "  \n",
        "  \n",
        "# load the image and convert into\n",
        "# numpy array\n",
        "img = Image.open('frame_00_01_0001.png')\n",
        "  \n",
        "# asarray() class is used to convert\n",
        "# PIL images into NumPy arrays\n",
        "numpydata = asarray(img)\n",
        "  \n",
        "# <class 'numpy.ndarray'>\n",
        "print(type(numpydata))\n",
        "  \n",
        "#  shape\n",
        "print(numpydata.shape)"
      ],
      "execution_count": null,
      "outputs": [
        {
          "output_type": "stream",
          "name": "stdout",
          "text": [
            "<class 'numpy.ndarray'>\n",
            "(240, 640)\n"
          ]
        }
      ]
    },
    {
      "cell_type": "code",
      "metadata": {
        "id": "oH8kYsySqSF5"
      },
      "source": [
        "from PIL import Image\n",
        "from numpy import asarray\n",
        "  \n",
        "  # FOr palm\n",
        "# load the image and convert into \n",
        "# numpy array\n",
        "img = Image.open('frame_00_01_0001.png')\n",
        "numpydata = asarray(img)\n",
        "  \n",
        "print(type(numpydata))\n",
        "  \n",
        "#  shape\n",
        "print(numpydata.shape)\n",
        "\n",
        "img = Image.open('frame_00_01_0002.png')\n",
        "numpydata = asarray(img)\n",
        "  \n",
        "print(type(numpydata))\n",
        "  \n",
        "#  shape\n",
        "print(numpydata.shape)\n",
        "\n",
        "img = Image.open('frame_00_01_0003.png')\n",
        "numpydata = asarray(img)\n",
        "  \n",
        "print(type(numpydata))\n",
        "  \n",
        "#  shape\n",
        "print(numpydata.shape)\n",
        "\n",
        "\n",
        "img = Image.open('frame_00_01_0004.png')\n",
        "numpydata = asarray(img)\n",
        "  \n",
        "print(type(numpydata))\n",
        "  \n",
        "#  shape\n",
        "print(numpydata.shape)\n"
      ],
      "execution_count": null,
      "outputs": []
    },
    {
      "cell_type": "code",
      "metadata": {
        "id": "2zs2S-K1qSKk"
      },
      "source": [
        "# for I \n",
        "\n",
        "img = Image.open('frame_00_02_0001.png')\n",
        "numpydata = asarray(img)\n",
        "  \n",
        "print(type(numpydata))\n",
        "  \n",
        "#  shape\n",
        "print(numpydata.shape)"
      ],
      "execution_count": null,
      "outputs": []
    },
    {
      "cell_type": "code",
      "metadata": {
        "id": "ltyWv_azqSO0"
      },
      "source": [
        "from keras.preprocessing.image import load_img\n",
        "import warnings\n",
        "from keras.preprocessing.image import img_to_array\n",
        "from keras.preprocessing.image import array_to_img\n",
        "  \n",
        "  \n",
        "# load the image via load_img function\n",
        "img = load_img('frame_00_02_0001.png')\n",
        "  \n",
        "# details about the image printed below\n",
        "print(type(img))\n",
        "print(img.format)\n",
        "print(img.mode)\n",
        "print(img.size)\n",
        "  \n",
        "# convert the given image into  numpy array\n",
        "img_numpy_array = img_to_array(img)\n",
        "print(\"Image is converted and NumPy array information :\")\n",
        "  \n",
        "# <class 'numpy.ndarray'>\n",
        "print(type(img_numpy_array))\n",
        "  \n",
        "# type: float32\n",
        "print(\"type:\", img_numpy_array.dtype)\n",
        "  \n",
        "# shape: (200, 400, 3)\n",
        "print(\"shape:\", img_numpy_array.shape)"
      ],
      "execution_count": null,
      "outputs": []
    },
    {
      "cell_type": "code",
      "metadata": {
        "colab": {
          "base_uri": "https://localhost:8080/"
        },
        "id": "21WHi1M8qSSy",
        "outputId": "fdfced2c-2e99-437d-8d5f-062c4a87869a"
      },
      "source": [
        "img = Image.open('frame_00_03_0001.png')\n",
        "numpydata = asarray(img)\n",
        "  \n",
        "print(type(numpydata))\n",
        "  \n",
        "#  shape\n",
        "print(numpydata.shape)\n",
        "\n"
      ],
      "execution_count": null,
      "outputs": [
        {
          "output_type": "stream",
          "name": "stdout",
          "text": [
            "<class 'numpy.ndarray'>\n",
            "(240, 640)\n"
          ]
        }
      ]
    },
    {
      "cell_type": "code",
      "metadata": {
        "colab": {
          "base_uri": "https://localhost:8080/"
        },
        "id": "bqtVbzP0qSWZ",
        "outputId": "9f02831f-5bec-426f-b962-103f58324d33"
      },
      "source": [
        "img = Image.open('frame_00_04_0001.png')\n",
        "numpydata = asarray(img)\n",
        "  \n",
        "print(type(numpydata))\n",
        "  \n",
        "#  shape\n",
        "print(numpydata.shape)"
      ],
      "execution_count": null,
      "outputs": [
        {
          "output_type": "stream",
          "name": "stdout",
          "text": [
            "<class 'numpy.ndarray'>\n",
            "(240, 640)\n"
          ]
        }
      ]
    },
    {
      "cell_type": "code",
      "metadata": {
        "colab": {
          "base_uri": "https://localhost:8080/"
        },
        "id": "byvMkCbBuUIc",
        "outputId": "465c2374-0b17-449e-a355-92b95baed930"
      },
      "source": [
        "img = Image.open('frame_00_05_0001.png')\n",
        "numpydata = asarray(img)\n",
        "  \n",
        "print(type(numpydata))\n",
        "  \n",
        "#  shape\n",
        "print(numpydata.shape)"
      ],
      "execution_count": null,
      "outputs": [
        {
          "output_type": "stream",
          "name": "stdout",
          "text": [
            "<class 'numpy.ndarray'>\n",
            "(240, 640)\n"
          ]
        }
      ]
    },
    {
      "cell_type": "code",
      "metadata": {
        "colab": {
          "base_uri": "https://localhost:8080/"
        },
        "id": "N6Of28F6uUNV",
        "outputId": "e19693c9-e3cd-4498-e5ea-110c2737c154"
      },
      "source": [
        "img = Image.open('frame_00_07_0001.png')\n",
        "numpydata = asarray(img)\n",
        "  \n",
        "print(type(numpydata))\n",
        "  \n",
        "#  shape\n",
        "print(numpydata.shape)"
      ],
      "execution_count": null,
      "outputs": [
        {
          "output_type": "stream",
          "name": "stdout",
          "text": [
            "<class 'numpy.ndarray'>\n",
            "(240, 640)\n"
          ]
        }
      ]
    },
    {
      "cell_type": "code",
      "metadata": {
        "id": "8nrSo9g-uURz"
      },
      "source": [
        "import pandas as pd\n",
        "import numpy as np\n",
        "import matplotlib.pyplot as plt\n",
        "%matplotlib inline\n",
        "from skimage.io import imread, imshow\n",
        "\n",
        "image = imread('frame_00_07_0001.png', as_gray=True)\n",
        "imshow(image)\n",
        "\n",
        "\n",
        "#checking image shape \n",
        "image.shape, image"
      ],
      "execution_count": null,
      "outputs": []
    },
    {
      "cell_type": "code",
      "metadata": {
        "id": "CFzlTorEuUVv"
      },
      "source": [
        "image = imread('frame_00_01_0001.png', as_gray=True)\n",
        "imshow(image)\n",
        "\n",
        "\n",
        "#checking image shape \n",
        "image.shape, image"
      ],
      "execution_count": null,
      "outputs": []
    },
    {
      "cell_type": "code",
      "metadata": {
        "colab": {
          "base_uri": "https://localhost:8080/",
          "height": 314
        },
        "id": "op3C3zipuUZk",
        "outputId": "62951640-df11-4055-ea09-049b54ddee7c"
      },
      "source": [
        "image = imread('frame_00_02_0001.png', as_gray=True)\n",
        "imshow(image)\n",
        "\n",
        "\n",
        "#checking image shape \n",
        "image.shape, image"
      ],
      "execution_count": null,
      "outputs": [
        {
          "output_type": "execute_result",
          "data": {
            "text/plain": [
              "((240, 640), array([[ 5,  4,  4, ...,  3,  3,  4],\n",
              "        [ 4,  5,  4, ...,  4,  3,  4],\n",
              "        [ 6,  5,  5, ...,  4,  3,  3],\n",
              "        ...,\n",
              "        [ 5,  5,  5, ...,  6,  4,  5],\n",
              "        [ 5,  4,  4, ...,  3,  5,  5],\n",
              "        [ 5,  4,  4, ..., 25, 12, 16]], dtype=uint8))"
            ]
          },
          "metadata": {},
          "execution_count": 22
        },
        {
          "output_type": "display_data",
          "data": {
            "image/png": "[encoded data removed]",
            "text/plain": [
              "<Figure size 432x288 with 1 Axes>"
            ]
          },
          "metadata": {
            "needs_background": "light"
          }
        }
      ]
    },
    {
      "cell_type": "code",
      "metadata": {
        "id": "HHivK5cFuUc6"
      },
      "source": [
        "image = imread('frame_00_03_0001.png', as_gray=True)\n",
        "imshow(image)\n",
        "\n",
        "\n",
        "#checking image shape \n",
        "image.shape, image"
      ],
      "execution_count": null,
      "outputs": []
    },
    {
      "cell_type": "markdown",
      "metadata": {
        "id": "pQjQv1gpxsmt"
      },
      "source": [
        "# ***Number of features in the final table for mini project***"
      ]
    },
    {
      "cell_type": "code",
      "metadata": {
        "id": "IiaUHmMJuUfx"
      },
      "source": [
        "# Since the shape of every images is : 240 by 640 therefore no. of features in the table will be = 1,53,600  "
      ],
      "execution_count": null,
      "outputs": []
    },
    {
      "cell_type": "code",
      "metadata": {
        "colab": {
          "base_uri": "https://localhost:8080/"
        },
        "id": "rvNeBXYmvYqA",
        "outputId": "d42773ba-88b9-4e3b-acfd-5016b07d6480"
      },
      "source": [
        "# The image shape here is 240 by 640. Hence, the number of features should be 1,53,600  . \n",
        "# We can generate this using the reshape function from NumPy where we specify the dimension of the image:\n",
        "\n",
        "#pixel features\n",
        "\n",
        "features = np.reshape(image, (240*640))\n",
        "\n",
        "features.shape, features"
      ],
      "execution_count": null,
      "outputs": [
        {
          "output_type": "execute_result",
          "data": {
            "text/plain": [
              "((153600,), array([ 3,  6,  4, ..., 25, 12, 16], dtype=uint8))"
            ]
          },
          "metadata": {},
          "execution_count": 24
        }
      ]
    },
    {
      "cell_type": "code",
      "metadata": {
        "id": "dU8Shld3vY5_"
      },
      "source": [
        "print(features[0])\n",
        "print(features[1])\n",
        "print(features[153597])\n",
        "print(features[153598])\n",
        "print(features[153599])"
      ],
      "execution_count": null,
      "outputs": []
    },
    {
      "cell_type": "code",
      "metadata": {
        "id": "xOZBrHd3vY_F"
      },
      "source": [
        "# dOUBT : How to store the created table of all the images into dataframe ???"
      ],
      "execution_count": null,
      "outputs": []
    },
    {
      "cell_type": "code",
      "metadata": {
        "id": "DlxJD-e0vZD_"
      },
      "source": [
        "# importing the pandas library\n",
        "import pandas as pd\n",
        "  \n",
        "# creating lists\n",
        "l1 =[\"Amar\", \"Barsha\", \"Carlos\", \"Tanmay\", \"Misbah\"]\n",
        "l2 =[\"Alpha\", \"Bravo\", \"Charlie\", \"Tango\", \"Mike\"]\n",
        "l3 =[23, 25, 22, 27, 29]\n",
        "l4 =[69, 54, 73, 70, 74]\n",
        "  \n",
        "# creating the DataFrame\n",
        "team = pd.DataFrame(list(zip(l1, l2, l3, l4))) \n",
        "  \n",
        "# displaying the DataFrame\n",
        "print(team)\n",
        "\n",
        "print('\\n\\n\\n')\n",
        "# adding column name to the respective columns\n",
        "team.columns =['Name', 'Code', 'Age', 'Weight']\n",
        "  \n",
        "# displaying the DataFrame\n",
        "print(team)"
      ],
      "execution_count": null,
      "outputs": []
    },
    {
      "cell_type": "code",
      "metadata": {
        "id": "fzBfS0kYvZIe"
      },
      "source": [
        "print(len(team.columns))\n",
        "print(team)"
      ],
      "execution_count": null,
      "outputs": []
    },
    {
      "cell_type": "code",
      "metadata": {
        "id": "9aqQZOzEvZNg"
      },
      "source": [
        "print(type(features))\n",
        "print(features)\n",
        "flist = list(features)\n",
        "print(flist)\n",
        "\n"
      ],
      "execution_count": null,
      "outputs": []
    },
    {
      "cell_type": "code",
      "metadata": {
        "id": "dc0dZZKBvZSE"
      },
      "source": [
        "mydf = pd.DataFrame(list(features))\n",
        "\n",
        "print(mydf)"
      ],
      "execution_count": null,
      "outputs": []
    },
    {
      "cell_type": "code",
      "metadata": {
        "id": "lcvU16yx23sm"
      },
      "source": [
        "listColumns = [];\n",
        "for i in range(153600):\n",
        "  listColumns.append('features'+str(i))\n",
        "\n",
        "print(listColumns)  # made column names for my dataframe now I have to add these columns into my dataframe  "
      ],
      "execution_count": null,
      "outputs": []
    },
    {
      "cell_type": "code",
      "metadata": {
        "id": "UYOsQNEy23xx"
      },
      "source": [
        "df = pd.DataFrame(columns = listColumns); \n",
        "\n"
      ],
      "execution_count": null,
      "outputs": []
    },
    {
      "cell_type": "code",
      "metadata": {
        "id": "HFqoyQLo232E"
      },
      "source": [
        "print(df.columns,len(df.columns))\n",
        "\n"
      ],
      "execution_count": null,
      "outputs": []
    },
    {
      "cell_type": "code",
      "metadata": {
        "id": "YYz-6nG32355"
      },
      "source": [
        ""
      ],
      "execution_count": null,
      "outputs": []
    },
    {
      "cell_type": "markdown",
      "metadata": {
        "id": "-hzK_Fh-FP1l"
      },
      "source": [
        "# New Section"
      ]
    },
    {
      "cell_type": "code",
      "metadata": {
        "id": "DeFG9ReHFUUJ"
      },
      "source": [
        "from google.colab import drive\n",
        "drive.mount('/content/drive')"
      ],
      "execution_count": null,
      "outputs": []
    },
    {
      "cell_type": "code",
      "metadata": {
        "id": "hB1g1ncZ239S"
      },
      "source": [
        "# Code to read csv file into colaboratory:\n",
        "!pip install -U -q PyDrive\n",
        "from pydrive.auth import GoogleAuth\n",
        "from pydrive.drive import GoogleDrive\n",
        "from google.colab import auth\n",
        "from oauth2client.client import GoogleCredentials"
      ],
      "execution_count": null,
      "outputs": []
    },
    {
      "cell_type": "code",
      "metadata": {
        "id": "oL8G0rREMS5K"
      },
      "source": [
        "auth.authenticate_user()\n",
        "gauth = GoogleAuth()\n",
        "gauth.credentials = GoogleCredentials.get_application_default()\n",
        "drive = GoogleDrive(gauth)\n"
      ],
      "execution_count": null,
      "outputs": []
    },
    {
      "cell_type": "code",
      "metadata": {
        "id": "KAA53PyA24Az"
      },
      "source": [
        "#2.1 Get the file\n",
        "downloaded = drive.CreateFile({'id':'19Ru8F_6_maUrZIFAuEfm_mj2zLcpgC58?usp=sharing'}) # replace the id with id of file you want to access\n",
        "downloaded.GetContentFile('Mini-Project')"
      ],
      "execution_count": null,
      "outputs": []
    },
    {
      "cell_type": "code",
      "metadata": {
        "id": "6AbVPQl624EM",
        "colab": {
          "base_uri": "https://localhost:8080/"
        },
        "outputId": "636e6494-1ae3-46c0-f1f9-682321a1c6cc"
      },
      "source": [
        "import numpy as np \n",
        "import pandas as pd \n",
        "import os\n",
        "print(os.listdir('drive/MyDrive/Mini-Project'))\n",
        "\n"
      ],
      "execution_count": null,
      "outputs": [
        {
          "output_type": "stream",
          "name": "stdout",
          "text": [
            "['01_palm', '02_l', '03_fist', '04_fist_moved', '06_index', '05_thumb', '07_ok', '10_down', '08_palm_moved', '09_c']\n"
          ]
        }
      ]
    },
    {
      "cell_type": "code",
      "metadata": {
        "id": "ItsPXng-24HV",
        "colab": {
          "base_uri": "https://localhost:8080/"
        },
        "outputId": "018760f6-1cbe-4fc1-9743-d17798a4be90"
      },
      "source": [
        "from PIL import Image\n",
        "import matplotlib.image as mpimg \n",
        "import matplotlib.pyplot as plt\n",
        "import matplotlib.cm as cm\n",
        "import IPython.display\n",
        "path='drive/MyDrive/Mini-Project'\n",
        "folders=os.listdir(path)\n",
        "folders=set(folders)\n",
        "\n",
        "#import codecs\n",
        "#import json\n",
        "\n",
        "\n",
        "different_classes=os.listdir(path)\n",
        "different_classes=set(different_classes)\n",
        "\n",
        "\n",
        "\n",
        "\n",
        "print(\"The different classes that exist in this dataset are:\")\n",
        "print(different_classes)"
      ],
      "execution_count": null,
      "outputs": [
        {
          "output_type": "stream",
          "name": "stdout",
          "text": [
            "The different classes that exist in this dataset are:\n",
            "{'08_palm_moved', '04_fist_moved', '05_thumb', '07_ok', '01_palm', '10_down', '02_l', '06_index', '03_fist', '09_c'}\n"
          ]
        }
      ]
    },
    {
      "cell_type": "code",
      "metadata": {
        "id": "HqN7fFI324LL"
      },
      "source": [
        "l = []\n",
        "list_names = []\n",
        "for i in range(10):\n",
        "    l.append(0)\n",
        "for i in range(len(x)):\n",
        "    if(l[y[i] - 1] == 0):\n",
        "        l[y[i] - 1] = i\n",
        "        if(len(np.unique(l)) == 10):\n",
        "            break\n",
        "for i in range(len(l)):\n",
        "    %matplotlib inline\n",
        "    print(\"Class Label: \" + str(i + 1))\n",
        "    plt.imshow(np.asarray(z[l[i]]), cmap  =cm.gray)\n",
        "    plt.show()\n",
        "    plt.imshow(np.asarray(x[l[i]]), cmap = cm.gray)     \n",
        "    plt.show()"
      ],
      "execution_count": null,
      "outputs": []
    },
    {
      "cell_type": "code",
      "metadata": {
        "id": "gvEDKiAb24OM"
      },
      "source": [
        "x=[]\n",
        "z=[]\n",
        "y=[]#converting the image to black and white\n",
        "threshold=200\n",
        "import cv2\n",
        "\n",
        "\n",
        "for i in folders:\n",
        "    print('***',i,'***')\n",
        "    subject=path+'/'+i\n",
        "    subdir=os.listdir(subject)\n",
        "    subdir=set(subdir)\n",
        "    for j in subdir:\n",
        "        #print(j)\n",
        "        images=os.listdir(subject+'/'+j)\n",
        "        for k in images:\n",
        "            results=dict()\n",
        "            results['y']=j.split('_')[0]\n",
        "            img = cv2.imread(subject+'/'+j+'/'+k,0)\n",
        "            img=cv2.resize(img,(int(160),int(60)))\n",
        "            \n",
        "            ret, imgf = cv2.threshold(img, 0, 255, cv2.THRESH_BINARY+cv2.THRESH_OTSU)\n",
        "            imgD=np.asarray(img,dtype=np.float64)\n",
        "            z.append(imgD)\n",
        "            imgf=np.asarray(imgf,dtype=np.float64)\n",
        "            x.append(imgf)\n",
        "            y.append(int(j.split('_')[0]))\n",
        "            results['x']=imgf"
      ],
      "execution_count": null,
      "outputs": []
    },
    {
      "cell_type": "markdown",
      "metadata": {
        "id": "tqntvXTk-gZz"
      },
      "source": [
        "# ***-------ACTUAL CODING -------***"
      ]
    },
    {
      "cell_type": "markdown",
      "metadata": {
        "id": "aDxP0qkA-kyu"
      },
      "source": [
        "# ***code***\n",
        "# ***code***\n",
        "# ***code***"
      ]
    },
    {
      "cell_type": "code",
      "metadata": {
        "id": "3IiHsLZi24Re"
      },
      "source": [
        "import os\n",
        "import numpy as np\n",
        "import cv2\n",
        "# from collections import Counter\n",
        "import random\n",
        "\n",
        "from sklearn.metrics import accuracy_score\n",
        "from sklearn.model_selection import train_test_split\n",
        "\n",
        "from sklearn.ensemble import RandomForestClassifier # for comparison\n",
        "from sklearn.neighbors import KNeighborsClassifier  # for comparsion\n",
        "from sklearn.linear_model import LogisticRegression\n",
        "# from sklearn.svm import SVC\n",
        "from sklearn.preprocessing import MinMaxScaler"
      ],
      "execution_count": null,
      "outputs": []
    },
    {
      "cell_type": "code",
      "metadata": {
        "id": "X5xUtqJE24UK"
      },
      "source": [
        "IMG_WIDTH = 18\n",
        "IMG_HEIGHT = 18\n",
        "\n",
        "X = []\n",
        "y = []"
      ],
      "execution_count": null,
      "outputs": []
    },
    {
      "cell_type": "code",
      "metadata": {
        "id": "2_qpC-BY24ho"
      },
      "source": [
        "def img_process(img):\n",
        "    thresh_val = 100\n",
        "    _, img = cv2.threshold(img, thresh_val, 255, cv2.THRESH_BINARY)  # Thresholding is a very popular segmentation technique, \n",
        "                                                                     #used for separating an object considered \n",
        "                                                                     #as a foreground from its background.\n",
        "    img = cv2.resize(img, (IMG_WIDTH, IMG_HEIGHT))   # resizing the image\n",
        "    img = cv2.GaussianBlur(img, (5,5), 0)  #typically to reduce image noise and reduce detail. \n",
        "                                           #It is also used as a preprocessing stage before applying our \n",
        "                                           #machine learning or deep learning models.\n",
        "    img = np.reshape(img, (1, -1))[0] \n",
        "    return img"
      ],
      "execution_count": null,
      "outputs": []
    },
    {
      "cell_type": "code",
      "metadata": {
        "id": "AFYJWYes24n_"
      },
      "source": [
        "for dirname, _, filenames in os.walk('drive/MyDrive/Mini-Project'):\n",
        "    for filename in filenames:\n",
        "        print(os.path.join(dirname, filename))\n",
        "        img = cv2.imread(os.path.join(dirname, filename),0)\n",
        "        img = img_process(img)\n",
        "        X.append(img)\n",
        "        y.append(int(filename.split('_')[2]))\n",
        "        if len(X) % 2000 == 0 : print(len(X), 'images processed')"
      ],
      "execution_count": null,
      "outputs": []
    },
    {
      "cell_type": "code",
      "metadata": {
        "id": "QO8OO1r9lfmJ"
      },
      "source": [
        ""
      ],
      "execution_count": null,
      "outputs": []
    },
    {
      "cell_type": "markdown",
      "metadata": {
        "id": "tW6Fk41q24s8"
      },
      "source": [
        ""
      ]
    },
    {
      "cell_type": "code",
      "metadata": {
        "id": "uGPgtw_325Jq"
      },
      "source": [
        "lst = list(zip(X,y))\n",
        "random.shuffle(lst)\n",
        "X = [i[0] for i in lst]\n",
        "y = [i[1] for i in lst]\n",
        "X_train, X_test, y_train, y_test = train_test_split(X, y, test_size=0.2, random_state=1)"
      ],
      "execution_count": null,
      "outputs": []
    },
    {
      "cell_type": "code",
      "metadata": {
        "id": "w1QkwGX8rY_w"
      },
      "source": [
        "model_lr = LogisticRegression(solver='lbfgs', multi_class='ovr', n_jobs=10)\n",
        "model_lr.fit(X_train, y_train)\n",
        "pred = model_lr.predict(X_test)\n",
        "print(pred)\n",
        "print(y_test)\n",
        "print('Accuracy is', accuracy_score(pred, y_test))\n",
        "# print(pred)"
      ],
      "execution_count": null,
      "outputs": []
    },
    {
      "cell_type": "code",
      "metadata": {
        "id": "s9PkCBz_kuaV"
      },
      "source": [
        ""
      ],
      "execution_count": null,
      "outputs": []
    },
    {
      "cell_type": "code",
      "metadata": {
        "id": "G7eKT70-kug-"
      },
      "source": [
        ""
      ],
      "execution_count": null,
      "outputs": []
    },
    {
      "cell_type": "code",
      "metadata": {
        "id": "H4nbrYOs0jZL"
      },
      "source": [
        "print(y_test)"
      ],
      "execution_count": null,
      "outputs": []
    },
    {
      "cell_type": "code",
      "metadata": {
        "id": "bXtWolXs25O5",
        "colab": {
          "base_uri": "https://localhost:8080/"
        },
        "outputId": "8b0fd101-6d4e-435d-d772-0c69e1f80e3d"
      },
      "source": [
        "# model_rf = RandomForestClassifier(random_state=1, n_estimators=1000)\n",
        "# model_rf.fit(X_train, y_train)\n",
        "# pred = model_rf.predict(X_test)\n",
        "# print('Accuracy is', accuracy_score(pred, y_test))"
      ],
      "execution_count": null,
      "outputs": [
        {
          "output_type": "stream",
          "name": "stdout",
          "text": [
            "Accuracy is 1.0\n"
          ]
        }
      ]
    },
    {
      "cell_type": "code",
      "metadata": {
        "id": "wX45r80n0zna"
      },
      "source": [
        ""
      ],
      "execution_count": null,
      "outputs": []
    },
    {
      "cell_type": "code",
      "metadata": {
        "id": "L77Dv6Ae25TF",
        "colab": {
          "base_uri": "https://localhost:8080/"
        },
        "outputId": "c72d954b-031f-43f3-d227-bfe43c719c57"
      },
      "source": [
        "# model_KNN = KNeighborsClassifier(n_neighbors=3)\n",
        "# model_KNN.fit(X_train, y_train)\n",
        "# pred = model_KNN.predict(X_test)\n",
        "# print('Accuracy is', accuracy_score(pred, y_test))"
      ],
      "execution_count": null,
      "outputs": [
        {
          "output_type": "stream",
          "name": "stdout",
          "text": [
            "Accuracy is 1.0\n"
          ]
        }
      ]
    },
    {
      "cell_type": "code",
      "metadata": {
        "id": "NlpqNRn525XB",
        "colab": {
          "base_uri": "https://localhost:8080/"
        },
        "outputId": "1edd5c8c-7484-432e-b69e-7911ff14ea13"
      },
      "source": [
        "from sklearn.metrics import confusion_matrix\n",
        "\n",
        "print(confusion_matrix(y_test, pred))"
      ],
      "execution_count": null,
      "outputs": [
        {
          "output_type": "stream",
          "name": "stdout",
          "text": [
            "[[41  0  0  0  0  0  0  1  0  0]\n",
            " [ 0 47  0  0  0  0  0  0  0  0]\n",
            " [ 0  0 35  0  0  0  0  0  0  0]\n",
            " [ 0  0  0 42  0  0  0  0  0  0]\n",
            " [ 0  0  0  0 40  0  0  0  0  0]\n",
            " [ 0  0  1  0  0 37  0  0  0  0]\n",
            " [ 0  0  0  0  0  0 38  0  0  0]\n",
            " [ 0  0  0  0  0  0  0 44  0  0]\n",
            " [ 0  0  0  0  0  0  0  0 29  0]\n",
            " [ 0  0  0  0  0  0  0  0  0 45]]\n"
          ]
        }
      ]
    },
    {
      "cell_type": "code",
      "metadata": {
        "colab": {
          "base_uri": "https://localhost:8080/"
        },
        "id": "xP8DEPAq1ODD",
        "outputId": "a3b2e225-75eb-4fca-a150-a951c9fc4e68"
      },
      "source": [
        "print(y_test)"
      ],
      "execution_count": null,
      "outputs": [
        {
          "output_type": "stream",
          "name": "stdout",
          "text": [
            "[8, 3, 1, 3, 1, 1, 3, 2, 10, 1, 9, 4, 10, 6, 9, 7, 5, 4, 4, 10, 3, 10, 6, 2, 8, 10, 1, 4, 7, 5, 4, 7, 9, 5, 3, 3, 4, 5, 8, 7, 3, 7, 10, 5, 10, 10, 7, 4, 8, 5, 2, 8, 6, 7, 4, 1, 8, 4, 9, 5, 1, 4, 5, 5, 2, 8, 9, 1, 4, 8, 10, 6, 6, 10, 6, 7, 3, 1, 3, 1, 4, 2, 1, 2, 10, 2, 10, 3, 1, 2, 8, 4, 6, 6, 8, 8, 8, 8, 7, 9, 8, 1, 2, 2, 7, 7, 9, 9, 7, 10, 9, 10, 10, 10, 4, 6, 6, 2, 10, 2, 8, 5, 2, 3, 3, 9, 6, 6, 6, 7, 2, 9, 1, 2, 4, 7, 2, 1, 3, 7, 6, 7, 4, 10, 2, 6, 4, 3, 4, 8, 5, 5, 3, 5, 2, 4, 5, 8, 9, 7, 1, 10, 6, 5, 7, 6, 10, 2, 8, 8, 6, 6, 10, 2, 9, 4, 10, 8, 3, 5, 4, 1, 8, 2, 1, 9, 8, 1, 10, 5, 1, 1, 6, 2, 2, 6, 7, 6, 7, 8, 2, 4, 6, 7, 3, 8, 10, 4, 4, 2, 6, 8, 4, 6, 10, 5, 1, 1, 10, 2, 5, 1, 3, 3, 5, 5, 8, 7, 5, 1, 3, 4, 7, 7, 8, 4, 5, 6, 5, 6, 10, 1, 3, 1, 3, 2, 2, 10, 3, 9, 4, 8, 6, 10, 8, 7, 3, 1, 10, 9, 7, 2, 9, 2, 2, 8, 1, 1, 4, 8, 5, 8, 2, 10, 4, 10, 5, 7, 10, 1, 4, 10, 10, 5, 10, 2, 8, 7, 8, 5, 9, 5, 3, 6, 4, 3, 8, 2, 7, 7, 8, 7, 3, 5, 10, 1, 7, 10, 1, 8, 5, 1, 5, 7, 5, 10, 9, 1, 10, 1, 6, 5, 6, 7, 4, 2, 1, 3, 6, 8, 4, 10, 2, 9, 2, 5, 2, 8, 4, 2, 10, 4, 7, 7, 9, 4, 3, 2, 5, 9, 8, 9, 4, 2, 5, 3, 9, 10, 3, 6, 8, 10, 7, 2, 5, 1, 5, 7, 6, 2, 10, 4, 2, 8, 3, 1, 3, 1, 4, 9, 3, 3, 9, 9, 8, 6, 4, 2, 2, 1, 8, 6, 9, 2, 9, 1, 6, 4, 5, 6]\n"
          ]
        }
      ]
    },
    {
      "cell_type": "code",
      "metadata": {
        "colab": {
          "base_uri": "https://localhost:8080/"
        },
        "id": "OPRcfZ3qwMLc",
        "outputId": "304752ca-7c3d-4ad4-8b57-49d52cb2310b"
      },
      "source": [
        "from sklearn.metrics import confusion_matrix\n",
        "y_true = [2, 0, 2, 2, 0, 1]\n",
        "y_pred = [0, 0, 2, 2, 0, 2]\n",
        "confusion_matrix(y_true, y_pred)"
      ],
      "execution_count": null,
      "outputs": [
        {
          "output_type": "execute_result",
          "data": {
            "text/plain": [
              "array([[2, 0, 0],\n",
              "       [0, 0, 1],\n",
              "       [1, 0, 2]])"
            ]
          },
          "metadata": {},
          "execution_count": 11
        }
      ]
    },
    {
      "cell_type": "code",
      "metadata": {
        "colab": {
          "base_uri": "https://localhost:8080/"
        },
        "id": "Z3mgtJ8iwMQQ",
        "outputId": "b511860c-d337-4faf-b502-1b1796ea7e5f"
      },
      "source": [
        "# X_train =X_train.copy();\n",
        "\n",
        "print(type(X_train),type(y_train))"
      ],
      "execution_count": null,
      "outputs": [
        {
          "output_type": "stream",
          "name": "stdout",
          "text": [
            "<class 'list'> <class 'list'>\n"
          ]
        }
      ]
    },
    {
      "cell_type": "code",
      "metadata": {
        "id": "8d58Ta9WwMUi"
      },
      "source": [
        "# print(X_test)\n"
      ],
      "execution_count": null,
      "outputs": []
    },
    {
      "cell_type": "code",
      "metadata": {
        "id": "IlCVGxFHwMYg",
        "colab": {
          "base_uri": "https://localhost:8080/"
        },
        "outputId": "134d5d1c-592f-42c3-82bc-5b811cd0d86c"
      },
      "source": [
        "print(type(X_test))\n",
        "d = len(X_test)\n",
        "print('Length of X_test is ',d)\n",
        "e = len(y_test)\n",
        "f = len(X_train)\n",
        "g = len(y_train)\n",
        "\n",
        "print('Length of y_test is ',e,'\\nLength of X_train is ',f,'\\nLength of y_train is ',g)"
      ],
      "execution_count": null,
      "outputs": [
        {
          "output_type": "stream",
          "name": "stdout",
          "text": [
            "<class 'list'>\n",
            "Length of X_test is  400\n",
            "Length of y_test is  400 \n",
            "Length of X_train is  1600 \n",
            "Length of y_train is  1600\n"
          ]
        }
      ]
    },
    {
      "cell_type": "code",
      "metadata": {
        "id": "va1v314bwMca"
      },
      "source": [
        "print(X_test[0])\n",
        "\n",
        "print('Number of columns in each extracted image is : ',len(X_test[0]))\n",
        "print('Number of columns in each extracted image is : ',len(X_train[0]))"
      ],
      "execution_count": null,
      "outputs": []
    },
    {
      "cell_type": "markdown",
      "metadata": {
        "id": "4uX5iEB8I8Yf"
      },
      "source": [
        "# ***K-FOLD CROSS VALIDATION***"
      ]
    },
    {
      "cell_type": "code",
      "metadata": {
        "id": "CsK0kndrI51t"
      },
      "source": [
        "from sklearn.model_selection import cross_val_score\n",
        "from sklearn.model_selection import KFold"
      ],
      "execution_count": null,
      "outputs": []
    },
    {
      "cell_type": "code",
      "metadata": {
        "colab": {
          "base_uri": "https://localhost:8080/"
        },
        "id": "Qek-0uTdI5-u",
        "outputId": "764fe57b-9d63-452f-ca90-bc738fa8b792"
      },
      "source": [
        "cv = KFold(n_splits=5, random_state=1, shuffle=True)\n",
        "# create model\n",
        "model = LogisticRegression()\n",
        "# evaluate model\n",
        "scores = cross_val_score(model, X, y, scoring='accuracy', cv=cv, n_jobs=-1)\n",
        "# report performance\n",
        "print('Accuracies : ',scores,'length of scores arrray is : ',len(scores),'\\ntype of score is : ',type(scores))"
      ],
      "execution_count": null,
      "outputs": [
        {
          "output_type": "stream",
          "name": "stdout",
          "text": [
            "Accuracies :  [0.9975 1.     0.9975 0.985  0.9975] length of scores arrray is :  5 \n",
            "type of score is :  <class 'numpy.ndarray'>\n"
          ]
        }
      ]
    },
    {
      "cell_type": "code",
      "metadata": {
        "id": "cvfHFFz-I6FS"
      },
      "source": [
        ""
      ],
      "execution_count": null,
      "outputs": []
    },
    {
      "cell_type": "code",
      "metadata": {
        "id": "t-NgoMoawMf_"
      },
      "source": [
        "import numpy as np\n",
        "\n",
        "\n",
        "class LogisticRegression2:\n",
        "    def __init__(self, learning_rate=0.01, n_iters=500):\n",
        "        self.lr = learning_rate\n",
        "        self.n_iters = n_iters\n",
        "        self.weights = None\n",
        "        self.bias = None\n",
        "    def fit(self, X, y):\n",
        "        n_samples, n_features = X.shape\n",
        "\n",
        "        # init parameters\n",
        "        self.weights = np.zeros(n_features)\n",
        "        self.bias = 0\n",
        "         # gradient descent\n",
        "        for _ in range(self.n_iters):\n",
        "            # approximate y with linear combination of weights and x, plus bias\n",
        "            linear_model = np.dot(X, self.weights) + self.bias\n",
        "            # apply sigmoid function\n",
        "            y_predicted = self._sigmoid(linear_model)\n",
        "\n",
        "            # compute gradients\n",
        "            dw = (1 / n_samples) * np.dot(X.T, (y_predicted - y))\n",
        "            db = (1 / n_samples) * np.sum(y_predicted - y)\n",
        "            # update parameters\n",
        "            self.weights -= self.lr * dw\n",
        "            self.bias -= self.lr * db\n",
        "    def predict(self, X):\n",
        "        linear_model = np.dot(X, self.weights) + self.bias\n",
        "        y_predicted = self._sigmoid(linear_model)\n",
        "        y_predicted_cls = [1 if i > 0.5 else 0 for i in y_predicted]\n",
        "        return np.array(y_predicted_cls)\n",
        "\n",
        "    def _sigmoid(self, x):\n",
        "        return 1 / (1 + np.exp(-x))\n",
        "def accuracy(y_true, y_pred):\n",
        "  accuracy = np.sum(y_true == y_pred) / len(y_true)\n",
        "  return accuracy\n"
      ],
      "execution_count": null,
      "outputs": []
    },
    {
      "cell_type": "code",
      "metadata": {
        "id": "p9B5LiZN3hPy"
      },
      "source": [
        "# Testing\n",
        "# if __name__ == \"__main__\":\n",
        "    # Imports\n",
        "    # from sklearn.model_selection import train_test_split\n",
        "    # from sklearn import datasets\n",
        "\n",
        "\n",
        "    # bc = datasets.load_breast_cancer()\n",
        "    # X, y = bc.data, bc.target\n",
        "\n",
        "    # X_train, X_test, y_train, y_test = train_test_split(\n",
        "    #     X, y, test_size=0.2, random_state=1234\n",
        "    # )\n",
        "\n",
        "    \n",
        "regressor = LogisticRegression2(learning_rate=0.0001, n_iters=1000)\n",
        "regressor.fit(X_train, y_train)\n",
        "predictions = regressor.predict(X_test)\n",
        "\n",
        "print(\"LR classification accuracy:\", accuracy(y_test, predictions))\n"
      ],
      "execution_count": null,
      "outputs": []
    },
    {
      "cell_type": "code",
      "metadata": {
        "id": "r3ikm4DU3hVc"
      },
      "source": [
        "print(X_test[0],len(X_test))"
      ],
      "execution_count": null,
      "outputs": []
    },
    {
      "cell_type": "code",
      "metadata": {
        "id": "QzAEhmvJ3hac",
        "colab": {
          "base_uri": "https://localhost:8080/"
        },
        "outputId": "8095570d-7cf1-4f43-aa82-6aa7fc9ade78"
      },
      "source": [
        "ls = []\n",
        "for i in range(324):\n",
        "  ls.append(i)\n",
        "df = pd.DataFrame(X_test, columns = ls)\n",
        "# print(X_test)\n",
        "print(df.head())\n",
        "print(len(df.columns))"
      ],
      "execution_count": null,
      "outputs": [
        {
          "output_type": "stream",
          "name": "stdout",
          "text": [
            "   0    1    2    3    4    5    6    ...  317  318  319  320  321  322  323\n",
            "0    0    0    0    0    0    0    0  ...    0    0    0    0    0    0    0\n",
            "1    0    0    0    0    0    0    0  ...    3    0    0    0    0    0    0\n",
            "2    0    0    0    0    0    0    0  ...    0    0    0    0    0    0    0\n",
            "3    0    0    0    0    0    0    0  ...   44   26    6    0    0    0    0\n",
            "4    0    0    0    0    0    0    0  ...    0    0    0    0    0    0    0\n",
            "\n",
            "[5 rows x 324 columns]\n",
            "324\n"
          ]
        }
      ]
    },
    {
      "cell_type": "code",
      "metadata": {
        "id": "iBzAfqUW3hel",
        "colab": {
          "base_uri": "https://localhost:8080/"
        },
        "outputId": "5eed2db8-3cfe-48b3-ffbe-3452a11e7733"
      },
      "source": [
        "print('Size of X is : ',len(X))\n",
        "print('Size of X[0] is : ',len(X[0]))\n",
        "print('Size of y is : ',len(y))\n",
        "print('size of X_train : ',len(X_train[0]))\n"
      ],
      "execution_count": null,
      "outputs": [
        {
          "output_type": "stream",
          "name": "stdout",
          "text": [
            "Size of X is :  2000\n",
            "Size of X[0] is :  324\n",
            "Size of y is :  2000\n",
            "size of X_train :  324\n"
          ]
        }
      ]
    },
    {
      "cell_type": "code",
      "metadata": {
        "id": "4Je3kaGL3hi3"
      },
      "source": [
        "import pandas as pd\n",
        "ls = []\n",
        "for i in range(324):\n",
        "  ls.append(i)\n",
        "df = pd.DataFrame(X, columns = ls)"
      ],
      "execution_count": null,
      "outputs": []
    },
    {
      "cell_type": "code",
      "metadata": {
        "id": "Yjtb3ueR3hm4"
      },
      "source": [
        "print(df)"
      ],
      "execution_count": null,
      "outputs": []
    },
    {
      "cell_type": "code",
      "metadata": {
        "id": "vfQJJVsK3hrY"
      },
      "source": [
        "ydf = pd.DataFrame(data = y,columns = ['ouput'])\n",
        "\n",
        "print(ydf)\n",
        "\n",
        "# Now I have X and y as dataframe and now I can split them on x_train and x_test like this ......."
      ],
      "execution_count": null,
      "outputs": []
    },
    {
      "cell_type": "code",
      "metadata": {
        "id": "9t9BGhB73hve"
      },
      "source": [
        "X_train, X_test, y_train, y_test = train_test_split(df, y, test_size=0.2, random_state=1)\n",
        "\n",
        "    \n",
        "regressor = LogisticRegression2(learning_rate=0.01, n_iters=500)\n",
        "regressor.fit(X_train, y_train)\n",
        "predictions = regressor.predict(X_test)\n",
        "print(predictions)\n",
        "print(y_test)\n",
        "print(\"LR classification accuracy:\", accuracy(y_test, predictions))"
      ],
      "execution_count": null,
      "outputs": []
    },
    {
      "cell_type": "markdown",
      "metadata": {
        "id": "7qnNx-8_n7wx"
      },
      "source": [
        "# ***NORMALIZATION AFTER CONVERTING TO DF***"
      ]
    },
    {
      "cell_type": "code",
      "metadata": {
        "id": "95sS2321nbFl"
      },
      "source": [
        "from sklearn.preprocessing import MinMaxScaler\n",
        "\n",
        "scaling = MinMaxScaler()\n",
        "df = scaling.fit_transform(df)"
      ],
      "execution_count": null,
      "outputs": []
    },
    {
      "cell_type": "code",
      "metadata": {
        "id": "oOS3oBq6nbLX"
      },
      "source": [
        ""
      ],
      "execution_count": null,
      "outputs": []
    },
    {
      "cell_type": "code",
      "metadata": {
        "id": "Tplvn1kQ3hzQ"
      },
      "source": [
        "print(type(X_train))\n",
        "print(type(y_train))\n",
        "print(type(X_test))\n",
        "print(type(y_test))\n",
        "\n",
        "print(X_test)\n",
        "print(y_test)"
      ],
      "execution_count": null,
      "outputs": []
    },
    {
      "cell_type": "code",
      "metadata": {
        "colab": {
          "base_uri": "https://localhost:8080/"
        },
        "id": "SX0uR5KGiGv2",
        "outputId": "5c7ad345-f5c1-417d-aee1-2b035818988b"
      },
      "source": [
        "n_samples, n_features = X_train.shape\n",
        "\n",
        "print(n_samples)\n",
        "print(n_features)"
      ],
      "execution_count": null,
      "outputs": [
        {
          "output_type": "stream",
          "name": "stdout",
          "text": [
            "1600\n",
            "324\n"
          ]
        }
      ]
    },
    {
      "cell_type": "code",
      "metadata": {
        "id": "2vGT34PLiG0g"
      },
      "source": [
        "# model_lr = LogisticRegression(solver='lbfgs', multi_class='ovr', n_jobs=10,max_iter = 100,tol=0.5)\n",
        "model_lr = LogisticRegression(solver='lbfgs', multi_class='ovr', n_jobs=10)\n",
        "model_lr.fit(X_train, y_train)\n",
        "pred = model_lr.predict(X_test)\n",
        "print(pred)\n",
        "print(y_test)\n",
        "print('Accuracy is', accuracy_score(pred, y_test))"
      ],
      "execution_count": null,
      "outputs": []
    },
    {
      "cell_type": "code",
      "metadata": {
        "id": "3ZtJK3beiG5P"
      },
      "source": [
        ""
      ],
      "execution_count": null,
      "outputs": []
    },
    {
      "cell_type": "markdown",
      "metadata": {
        "id": "qzZRptsLf1XH"
      },
      "source": [
        "# ***SGD for classification***"
      ]
    },
    {
      "cell_type": "code",
      "metadata": {
        "id": "N0aPRPBXiG9Y"
      },
      "source": [
        "from sklearn.linear_model import SGDClassifier\n",
        "from sklearn.datasets import load_iris\n",
        "from sklearn.datasets import make_classification\n",
        "from sklearn.model_selection import train_test_split\n",
        "from sklearn.metrics import confusion_matrix\n",
        "from sklearn.metrics import classification_report\n",
        "from sklearn.preprocessing import scale"
      ],
      "execution_count": null,
      "outputs": []
    },
    {
      "cell_type": "code",
      "metadata": {
        "id": "Kk6FuhDWiHEm"
      },
      "source": [
        "sgdc = SGDClassifier(max_iter=1000,alpha = 0.05)\n",
        "print(sgdc)\n",
        " \n",
        "sgdc.fit(X_train, y_train)\n"
      ],
      "execution_count": null,
      "outputs": []
    },
    {
      "cell_type": "code",
      "metadata": {
        "id": "qsrmiA4HiHJG",
        "colab": {
          "base_uri": "https://localhost:8080/"
        },
        "outputId": "b2dcf46c-532b-459c-cbcb-74622aefa2b0"
      },
      "source": [
        "score = sgdc.score(X_train, y_train)\n",
        "print(\"Training score: \", score) \n",
        " \n"
      ],
      "execution_count": null,
      "outputs": [
        {
          "output_type": "stream",
          "name": "stdout",
          "text": [
            "Training score:  0.975625\n"
          ]
        }
      ]
    },
    {
      "cell_type": "code",
      "metadata": {
        "id": "q2nHrjQniHMP"
      },
      "source": [
        "ypred = sgdc.predict(X_test)\n",
        "\n",
        "cm = confusion_matrix(y_test, ypred)\n",
        "print(cm) "
      ],
      "execution_count": null,
      "outputs": []
    },
    {
      "cell_type": "markdown",
      "metadata": {
        "id": "jQk2iNRhin3_"
      },
      "source": [
        "# ***SGD ENDS ABOVE***"
      ]
    },
    {
      "cell_type": "code",
      "metadata": {
        "id": "w1dnzws6iHO2"
      },
      "source": [
        ""
      ],
      "execution_count": null,
      "outputs": []
    },
    {
      "cell_type": "markdown",
      "metadata": {
        "id": "T5OTXjK77cey"
      },
      "source": [
        "# ***SLP Code...........***"
      ]
    },
    {
      "cell_type": "markdown",
      "metadata": {
        "id": "UigS9j437hZZ"
      },
      "source": [
        "# ***Progress***"
      ]
    },
    {
      "cell_type": "code",
      "metadata": {
        "colab": {
          "base_uri": "https://localhost:8080/"
        },
        "id": "qJjKOgT17bzv",
        "outputId": "7b97525c-fc92-4b3e-b37a-b63efcc32655"
      },
      "source": [
        "import numpy.matlib \n",
        "import numpy as np\n",
        "import math\n",
        "def sigmoid(x):\n",
        "  return 1 / (1 + math.exp(-x)) \n",
        "\n",
        "x = [1,2,3,4]\n",
        "w = [1,2,2,2]\n",
        "np.dot(x,w)"
      ],
      "execution_count": null,
      "outputs": [
        {
          "output_type": "execute_result",
          "data": {
            "text/plain": [
              "19"
            ]
          },
          "metadata": {},
          "execution_count": 35
        }
      ]
    },
    {
      "cell_type": "markdown",
      "metadata": {
        "id": "6SJgeyYR7bfe"
      },
      "source": [
        ""
      ]
    },
    {
      "cell_type": "code",
      "metadata": {
        "id": "VH08m0YkinJU",
        "colab": {
          "base_uri": "https://localhost:8080/"
        },
        "outputId": "12809e1d-32af-493e-b621-08faddb0987a"
      },
      "source": [
        "print('type of X_train is : ',type(X_train))\n",
        "print('type of y_train is : ',type(y_train))\n",
        "print('Size of X_train is : ',len(X_train))\n",
        "print('Size of y_train is : ',len(y_train))\n",
        "print('Size of X_test is : ',len(X_test))\n",
        "print('Size of y_test is : ',len(y_test))"
      ],
      "execution_count": null,
      "outputs": [
        {
          "output_type": "stream",
          "name": "stdout",
          "text": [
            "type of X_train is :  <class 'numpy.ndarray'>\n",
            "type of y_train is :  <class 'list'>\n",
            "Size of X_train is :  1600\n",
            "Size of y_train is :  1600\n",
            "Size of X_test is :  400\n",
            "Size of y_test is :  400\n"
          ]
        }
      ]
    },
    {
      "cell_type": "code",
      "metadata": {
        "id": "jsDQy5Y1inN4"
      },
      "source": [
        "print(len(X_train[0]))\n",
        "print('X_TRAIN[0] is : \\n',X_train[0])\n",
        "print(y_train)"
      ],
      "execution_count": null,
      "outputs": []
    },
    {
      "cell_type": "code",
      "metadata": {
        "id": "d5Z_9kOminSB",
        "colab": {
          "base_uri": "https://localhost:8080/"
        },
        "outputId": "549a3829-f440-4399-82fc-ae22e4158100"
      },
      "source": [
        "#For random w list\n",
        "templist = list(np.random.uniform(-0.3,0.3,324))\n",
        "print('templist is : ',templist)"
      ],
      "execution_count": null,
      "outputs": [
        {
          "output_type": "stream",
          "name": "stdout",
          "text": [
            "templist is :  [0.27434995841378146, -0.2738131608769839, 0.24653311384441606, -0.039072333179387464, -0.2083632254261213, 0.0037989625096379043, 0.1575391267480914, 0.20215903307775612, 0.15403828308375117, 0.12813067966317748, -0.1445074318389518, 0.275010644948054, -0.2945219974530385, -0.2151529132089937, 0.19801840429738987, 0.019436180923681323, 0.19490159699092496, 0.25794269259510566, -0.17683301987820332, -0.11281402728745349, 0.11043593740229479, -0.09921675027936241, -0.12344089363323141, -0.05498607161715752, -0.15700070811241665, 0.07098621921044213, -0.12445873553004907, 0.23122701809156515, -0.1401102029777501, -0.0014038719970211333, -0.24660007320616453, 0.10606578775470221, 0.06374574003288369, -0.15648585450585858, 0.06240718422392327, -0.2589457327218701, -0.12194334554357633, 0.11143563358025699, -0.13242744504788045, -0.07018899464395664, -0.034937651574283635, 0.0355940557606253, 0.0908633816986063, -0.26349788237925137, 0.22801461930081462, 0.12185327461013518, 0.16358518218330875, -0.00907941911212179, -0.15755102468155863, -0.1547250983670718, 0.06403771713909151, 0.062071550224890304, -0.23156693555917238, -0.18620106211185156, -0.27546335832463487, 0.20739593376323745, 0.14734620217007927, -0.04051588175152249, -0.1533412750233681, 0.24422061511034093, -0.24553240438816396, 0.2766211294636422, 0.10089826069852509, -0.09418559846040767, 0.235566991617496, 0.07161634315064436, -0.13337323301066148, 0.2718471956050928, -0.08030926906928207, 0.20269761591930519, -0.05820909077499764, -0.2470420966316963, -0.1152496501932821, -0.1485146437361571, -0.0935596088268556, 0.06414810519780983, -0.11013429161649171, 0.11590496480468121, -0.05109033329772339, 0.03897664862961642, 0.02398121807074305, 0.024318196512332024, 0.05787577039208369, 0.014345388309095375, -0.2664000332612052, 0.1561451058880881, 0.0682674944754082, -0.16223379085425235, -0.051175564637523735, -0.12305210085562471, 0.20670341531692255, 0.04764436654667498, -0.17931547989148466, 0.29844640656713567, 0.29683819792688665, 0.06780117405413155, -0.039851369169117024, 0.2202618107775282, -0.0517966448600006, -0.04278118426984179, -0.06439060033839522, -0.21755555359615764, 0.08948027783498935, -0.24820231318803068, 0.05402443640233667, -0.10931203944640325, 0.21752169819648576, -0.29066201418552, 0.22375831811793606, 0.21354423096988323, 0.24709355996776589, 0.07260697790478954, -0.023337851088592987, -0.22707397859488992, -0.2266022088147654, -0.21980035326309988, 0.27776643603224144, -0.14064195213457908, 0.10975984846162834, 0.033765442129630174, 0.2739067013943877, 0.0838849421872288, -0.06028560927658058, 0.01614792767351242, 0.11389099474276843, 0.2927421076764057, 0.24410545423977642, 0.0863621830696209, -0.26641767425298307, -0.18431287492249548, -0.01974304234171126, -0.21309734432511052, 0.2588678315803488, -0.22765111922626735, -0.20083801119085848, -0.21459329386916542, -0.18479904664069874, 0.2091030305806792, -0.11447898242428237, -0.14724132334233014, -0.023975493015629512, 0.12290727823061093, -0.27812968453510706, 0.2553521377859795, -0.08072884453613885, 0.13520761146350263, 0.0032988998271916703, 0.030600562909349982, -0.009096722150396253, -0.18557218453780944, 0.011502860082173827, 0.179039901918422, 0.16268656402556503, 0.11494127520971636, 0.08340248393055139, -0.11592472871494203, 0.0230655757769066, -0.2612387904120188, -0.004896662643856242, -0.2168889043123282, -0.22814835238114728, 0.1741923201293452, 0.23913916273014074, 0.019558080843662673, 0.21172292641892393, 0.10661989128551375, -0.2393091961076602, 0.2885538326867904, -0.2915091610408512, -0.278482474960562, 0.19504133225712783, 0.26509219499956277, 0.2571297566025718, -0.06935715333829268, -0.08648643699174177, -0.03456525028103358, -0.06038886019791043, 0.04347136991721645, -0.11040656318445313, -0.1385990641496176, 0.10293932600575045, -0.08070760037708505, -0.2905299389713936, -0.2430567535840233, -0.28026377577999256, -0.24689330274712876, -0.09842414118298487, 0.2769404694059176, 0.28711438224398883, -0.11346141076867536, 0.29606120059961666, 0.021854277015591284, -0.08800096720819303, -0.04197632391326217, 0.21658653112532372, 0.2406942966073869, 0.1628654584160138, 0.2314992777034653, 0.28194168963082894, -0.11614352937168018, -0.22971129144628818, 0.009980224466739074, -0.1981976699212898, 0.03213167734510408, 0.244286385899447, 0.23160038605679717, 0.04336182215892437, 0.19051813147555008, 0.2136906595656552, -0.251214855997179, -0.2537444043060801, -0.18283038244106753, 0.262188339076669, -0.15858296075555903, -0.18291829111384267, 0.26832146422862274, -0.04676762040471988, 0.2490262782983394, -0.15130126882733733, 0.26198671270497637, 0.1436144566534961, -0.29775460196624964, 0.14150913089931877, -0.1272456909585005, 0.09891914405320401, -0.17081363512978748, 0.059787502020822114, 0.007490069163594626, 0.009872239820736872, 0.06433485021810204, -0.252743000266955, -0.29544728303383017, 0.013272946775320538, 0.2492199085547379, -0.16254624473637716, 0.20814103334283235, -0.08606403703007134, -0.12405344139150895, -0.2743474905979168, -0.046493015538086324, 0.12429999730825447, -0.1728844151008927, -0.15657964397944404, -0.16205800302536694, -0.2544343891362389, -0.09840103151998411, -0.21447699406558213, -0.2597239896453239, 0.27562547658956943, 0.16510790430178995, -0.2877858497982137, -0.10831475701745855, 0.048120950676296126, -0.23745022903437096, 0.1351026692436938, -0.23627719421993487, -0.2498886200231568, -0.12541965057644908, 0.2591984011930874, 0.19496568681913246, 0.21873351704159155, -0.24296002572441994, 0.22247607222671312, -0.09620831221663326, -0.2339880253654752, 0.22703586972242112, 0.25117901568284257, 0.046948250735296126, 0.08628802403588876, -0.12246055680956461, -0.19493085338913593, -0.26000185587898855, -0.1234435315849566, 0.19394725662668194, 0.09732269520416237, -0.1254448785150595, -0.03153775090771627, 0.09459697891514718, -0.03648863570408528, -0.12691439381358963, 0.2073598848069837, -0.15667958610986948, 0.02076373350932681, -0.2672791376213481, 0.2855938706557319, 0.29530693782018064, -0.04741503775113498, 0.14971288992347181, 0.14118138058000868, 0.016013441126221273, 0.1683508686738861, 0.1710170263138278, -0.0166389441979089, -0.23663630494838978, -0.23417069285611333, 0.22119486073291666, -0.0034313605286822035, 0.05452159033168685, -0.12373300721153141, 0.28998702095801493, 0.0870882041881259, 0.0482957644098197, 0.007037504775808501, -0.1640197741441214, 0.13265205009206693, 0.05919057508538561, -0.14046988383350809, -0.049122751289551514, 0.29376573905483133, 0.2726730824679248, -0.1646651513446066, 0.24617080166446464, -0.19367680036569088, -0.26714253381388364, 0.1021197796188758, -0.17942739487213286, 0.19932673790681915, -0.004084811278626033, 0.09156933211657903, 0.2757699469143861, -0.006228114126396012, -0.16099949981707798, 0.1780173256372926, -0.18994381083019218]\n"
          ]
        }
      ]
    },
    {
      "cell_type": "code",
      "metadata": {
        "id": "XDNmRvnzinVf"
      },
      "source": [
        "#For classifiers\n",
        "\n",
        "# y_train1 = y_train.copy()  # for classifier 1 and so on below\n",
        "y_train1 = list(y_train)\n",
        "y_train2 = list(y_train)\n",
        "y_train3 = list(y_train)\n",
        "y_train4 = list(y_train)\n",
        "y_train5 = list(y_train)\n",
        "y_train6 = list(y_train)\n",
        "y_train7 = list(y_train)\n",
        "y_train8 = list(y_train)\n",
        "y_train9 = list(y_train)\n",
        "y_train10 = list(y_train)\n"
      ],
      "execution_count": null,
      "outputs": []
    },
    {
      "cell_type": "code",
      "metadata": {
        "id": "Rdfod7oswnJx"
      },
      "source": [
        "def trainSLP(x_train,y_train,epochs,alpha):\n",
        "  templist = list(np.random.uniform(-0.3,0.3,324))\n",
        "  # print('templist is : ',templist)\n",
        "  w = []  # SIZE Is 324\n",
        "  w = templist;\n",
        "  rho = 0.0001\n",
        "  newError = 1;\n",
        "  oldError = 1;\n",
        "  myEpochs = 1;\n",
        "  w0 = 1\n",
        "  oldlist =[]\n",
        "  newlist =[]\n",
        "  h = np.zeros(len(x_train)) # 1600 len of x_train =  no. of hx(i) \n",
        "  print(len(x_train[0]),len(w)) # any TS and w list has same length 324\n",
        "  while myEpochs <= epochs:\n",
        "    # print('For epochs = : ',myEpochs,'\\n')\n",
        "    # print('\\nw before is : ',w)\n",
        "    oldlist = w;\n",
        "    for i in range(len(x_train)):\n",
        "      temp = np.dot(x_train[i],w)\n",
        "      h[i] = sigmoid(temp + w0)\n",
        "    # print('h after epoch = ',myEpochs,' h is ',h)\n",
        "    sumError = 0\n",
        "    for i in range(len(h)):\n",
        "      sumError = sumError + ( (h[i]-y_train[i])*(h[i]-y_train[i]) )\n",
        "    sumError = (1/2*(len(h))) * sumError\n",
        "\n",
        "    # updation of W ::::::::-----------\n",
        "    \n",
        "    for i in range(len(w)):\n",
        "      temp3 = 0    # for every new temp for next w\n",
        "      temp4 = 0   # for w0 updation\n",
        "      #324 times\n",
        "      for j in range(len(h)):\n",
        "        temp3 = temp3 + (h[j] - y_train[j])*x_train[j][i]\n",
        "        # print((h[j] - y_train[j])*x_train[j][i])\n",
        "        temp4 = temp4 + (h[j] - y_train[j])\n",
        "      temp3 = (temp3 * alpha)/len(h)\n",
        "      temp4 = (temp4 * alpha)/len(h)\n",
        "      # print('temp3 and temp4 are',temp3,temp4)\n",
        "      w[i] = w[i] - temp3\n",
        "      w0 = w0 - temp4\n",
        "      # print('w[',i,']','is : ',w[i])  \n",
        "\n",
        "        \n",
        "  \n",
        "\n",
        "    # print('\\nw after is : ',w)\n",
        "    # newlist = w\n",
        "\n",
        "    # print('\\nChecking if new == old')\n",
        "    # if(newlist == oldlist):\n",
        "    #   print('\\n\\nboth w list are same')\n",
        "    # print('temp is : ',temp,'temp2 is : ',temp2)\n",
        "    myEpochs = myEpochs + 1\n",
        "\n",
        "    \n",
        "\n",
        "  new_w_list = []\n",
        "  new_w_list.append(w0)\n",
        "  for x in w:\n",
        "    new_w_list.append(x)\n",
        "  print('new w list is : ',new_w_list )   \n",
        "  return h,sumError,\n",
        "\n",
        "\n",
        "\n",
        "\n",
        "\n",
        "\n"
      ],
      "execution_count": null,
      "outputs": []
    },
    {
      "cell_type": "code",
      "metadata": {
        "id": "Gg8VDhSpwnS6"
      },
      "source": [
        "h,Error,w = trainSLP(X_train,y_train,10,0.01)\n",
        "print('length of w is : ',len(w))\n",
        "print(\"h is : \",h,\"\\nError is \",Error,\"Coefficients are : \",w)\n",
        "\n",
        "# print(len(X_train[0]))"
      ],
      "execution_count": null,
      "outputs": []
    },
    {
      "cell_type": "code",
      "metadata": {
        "id": "DCm6tvbvNE30"
      },
      "source": [
        "for x in h:\n",
        "  formatted_float = \"{:.2f}\".format(x) # just to print h(xi) till two decimal places OK !!!!!\n",
        "  print(formatted_float)\n",
        "print('length of returned h is :',len(h))"
      ],
      "execution_count": null,
      "outputs": []
    },
    {
      "cell_type": "code",
      "metadata": {
        "id": "dyisBiCZwnaT"
      },
      "source": [
        "print(X_train[0])\n",
        "print(X_train[1])"
      ],
      "execution_count": null,
      "outputs": []
    },
    {
      "cell_type": "code",
      "metadata": {
        "id": "PvE0Jlq4HyHa",
        "colab": {
          "base_uri": "https://localhost:8080/"
        },
        "outputId": "4e9d090f-4cd8-480a-bba2-20122c302e09"
      },
      "source": [
        "print(X_train[0][323],X_train[1][15])"
      ],
      "execution_count": null,
      "outputs": [
        {
          "output_type": "stream",
          "name": "stdout",
          "text": [
            "0 0\n"
          ]
        }
      ]
    },
    {
      "cell_type": "code",
      "metadata": {
        "id": "9E5nD0bSHyMb",
        "colab": {
          "base_uri": "https://localhost:8080/"
        },
        "outputId": "e4fe3db6-b490-4e73-a852-554e7f3ff74f"
      },
      "source": [
        "ls = []\n",
        "ls.append(45)\n",
        "\n",
        "mylist = [1,2,4,5]\n",
        "for x in mylist:\n",
        "  ls.append(x)\n",
        "\n",
        "\n",
        "ls"
      ],
      "execution_count": null,
      "outputs": [
        {
          "output_type": "execute_result",
          "data": {
            "text/plain": [
              "[45, 1, 2, 4, 5]"
            ]
          },
          "metadata": {},
          "execution_count": 110
        }
      ]
    },
    {
      "cell_type": "code",
      "metadata": {
        "id": "sAVL9Y0ircht"
      },
      "source": [
        "# h,Error,w = trainSLP(X_train,y_train1,10,0.1)\n",
        "# print('length of w is : ',len(w))\n",
        "# print(\"h is : \",h,\"\\nError is \",Error,\"Coefficients are : \",w)\n",
        "\n",
        "# # print(len(X_train[0]))\n",
        "\n",
        "\n",
        "for i in  range (len(y_train1)):\n",
        "  if y_train1[i] == 1:\n",
        "    y_train1[i] = 1;\n",
        "  else:\n",
        "    y_train1[i] = 0;\n",
        "\n",
        "for i in  range (len(y_train2)):\n",
        "  if y_train2[i] == 2:\n",
        "    y_train2[i] = 1;\n",
        "  else:\n",
        "    y_train2[i] = 0;\n",
        "\n",
        "for i in  range (len(y_train3)):\n",
        "  if y_train3[i] == 3:\n",
        "    y_train3[i] = 1;\n",
        "  else:\n",
        "    y_train3[i] = 0;\n",
        "\n",
        "for i in  range (len(y_train4)):\n",
        "  if y_train4[i] == 4:\n",
        "    y_train4[i] = 1;\n",
        "  else:\n",
        "    y_train4[i] = 0; \n",
        "\n",
        "for i in  range (len(y_train5)):\n",
        "  if y_train5[i] == 5:\n",
        "    y_train5[i] = 1;\n",
        "  else:\n",
        "    y_train5[i] = 0;\n",
        "\n",
        "for i in  range (len(y_train6)):\n",
        "  if y_train6[i] == 6:\n",
        "    y_train6[i] = 1;\n",
        "  else:\n",
        "    y_train6[i] = 0;\n",
        "\n",
        "for i in  range (len(y_train7)):\n",
        "  if y_train7[i] == 7:\n",
        "    y_train7[i] = 1;\n",
        "  else:\n",
        "    y_train7[i] = 0;\n",
        "\n",
        "for i in  range (len(y_train8)):\n",
        "  if y_train8[i] == 8:\n",
        "    y_train8[i] = 1;\n",
        "  else:\n",
        "    y_train8[i] = 0;\n",
        "\n",
        "for i in  range (len(y_train9)):\n",
        "  if y_train9[i] == 9:\n",
        "    y_train9[i] = 1;\n",
        "  else:\n",
        "    y_train9[i] = 0;\n",
        "\n",
        "for i in  range (len(y_train10)):\n",
        "  if y_train10[i] == 10:\n",
        "    y_train10[i] = 1;\n",
        "  else:\n",
        "    y_train10[i] = 0;\n",
        "\n",
        "        "
      ],
      "execution_count": null,
      "outputs": []
    },
    {
      "cell_type": "code",
      "metadata": {
        "id": "jB2B7rivrcmG"
      },
      "source": [
        ""
      ],
      "execution_count": null,
      "outputs": []
    },
    {
      "cell_type": "code",
      "metadata": {
        "id": "cc8QyFhErcsh"
      },
      "source": [
        "h1,Error,w = trainSLP(X_train,y_train1,10,0.1)\n",
        "print(h1)\n",
        "h2,Error,w = trainSLP(X_train,y_train1,10,0.1)\n",
        "print(h2)\n",
        "h3,Error,w = trainSLP(X_train,y_train1,10,0.1)\n",
        "print(h3)\n",
        "h4,Error,w = trainSLP(X_train,y_train1,10,0.1)\n",
        "print(h4)\n",
        "h5,Error,w = trainSLP(X_train,y_train1,10,0.1)\n",
        "print(h5)\n",
        "h6,Error,w = trainSLP(X_train,y_train1,10,0.1)\n",
        "print(h6)\n",
        "h7,Error,w = trainSLP(X_train,y_train1,10,0.1)\n",
        "print(h7)\n",
        "h8,Error,w = trainSLP(X_train,y_train1,10,0.1)\n",
        "print(h8)\n",
        "h9,Error,w = trainSLP(X_train,y_train1,10,0.1)\n",
        "print(h9)\n",
        "h10,Error,w = trainSLP(X_train,y_train1,10,0.1)\n",
        "print(h10)"
      ],
      "execution_count": null,
      "outputs": []
    },
    {
      "cell_type": "code",
      "metadata": {
        "id": "lc6xa4Z3rcvu"
      },
      "source": [
        "\n"
      ],
      "execution_count": null,
      "outputs": []
    },
    {
      "cell_type": "code",
      "metadata": {
        "id": "S1svfjrEBm7B"
      },
      "source": [
        ""
      ],
      "execution_count": null,
      "outputs": []
    },
    {
      "cell_type": "code",
      "metadata": {
        "id": "__Ie5YYsBm_G"
      },
      "source": [
        ""
      ],
      "execution_count": null,
      "outputs": []
    },
    {
      "cell_type": "markdown",
      "metadata": {
        "id": "BAaKvDgLBniv"
      },
      "source": [
        "# ***MLP CLASSIFIER***"
      ]
    },
    {
      "cell_type": "code",
      "metadata": {
        "id": "0vrKKLyzBnCp"
      },
      "source": [
        "import pandas as pd\n",
        "\n",
        "import matplotlib.pyplot as plt\n",
        "\n",
        "\n",
        "\n",
        "from sklearn.neural_network import MLPClassifier\n",
        "\n",
        "from sklearn.metrics import accuracy_score\n",
        "from sklearn.metrics import plot_confusion_matrix\n",
        "from sklearn.metrics import classification_report"
      ],
      "execution_count": null,
      "outputs": []
    },
    {
      "cell_type": "code",
      "metadata": {
        "id": "G-JuGH42BsRE"
      },
      "source": [
        "mlp_clf = MLPClassifier(hidden_layer_sizes=(150,100,50),\n",
        "                        max_iter = 100,activation = 'logistic',\n",
        "                        solver = 'lbfgs')"
      ],
      "execution_count": null,
      "outputs": []
    },
    {
      "cell_type": "code",
      "metadata": {
        "id": "5Qf-5ph1BsWQ"
      },
      "source": [
        "mlp_clf.fit(X_train,y_train)"
      ],
      "execution_count": null,
      "outputs": []
    },
    {
      "cell_type": "code",
      "metadata": {
        "colab": {
          "base_uri": "https://localhost:8080/"
        },
        "id": "DF2z1umPBsbJ",
        "outputId": "4b3bd0bc-5280-4609-9cb0-ce0181ea5d6b"
      },
      "source": [
        "y_pred = mlp_clf.predict(X_test)\n",
        "\n",
        "print('Accuracy: {:.2f}'.format(accuracy_score(y_test, y_pred)))"
      ],
      "execution_count": null,
      "outputs": [
        {
          "output_type": "stream",
          "name": "stdout",
          "text": [
            "Accuracy: 0.86\n"
          ]
        }
      ]
    },
    {
      "cell_type": "code",
      "metadata": {
        "colab": {
          "base_uri": "https://localhost:8080/",
          "height": 308
        },
        "id": "MigZtspSBsdV",
        "outputId": "72d6b4d8-e18b-477b-84be-61b6e232f6a6"
      },
      "source": [
        "fig = plot_confusion_matrix(mlp_clf, X_test, y_test, display_labels=mlp_clf.classes_)\n",
        "fig.figure_.suptitle(\"Confusion Matrix for HAND GESTURE RECOGNITION\")\n",
        "plt.show()"
      ],
      "execution_count": null,
      "outputs": [
        {
          "output_type": "display_data",
          "data": {
            "image/png": "[encoded data removed]",
            "text/plain": [
              "<Figure size 432x288 with 2 Axes>"
            ]
          },
          "metadata": {
            "needs_background": "light"
          }
        }
      ]
    },
    {
      "cell_type": "code",
      "metadata": {
        "id": "Dqs9eqypCJ6j"
      },
      "source": [
        ""
      ],
      "execution_count": null,
      "outputs": []
    },
    {
      "cell_type": "code",
      "metadata": {
        "id": "8RR5sqyXCJ_A"
      },
      "source": [
        ""
      ],
      "execution_count": null,
      "outputs": []
    },
    {
      "cell_type": "code",
      "metadata": {
        "id": "X3pQ-uiRCKC1"
      },
      "source": [
        ""
      ],
      "execution_count": null,
      "outputs": []
    }
  ]
}